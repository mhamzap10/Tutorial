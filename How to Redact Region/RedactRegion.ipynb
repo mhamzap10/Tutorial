{
 "cells": [
  {
   "cell_type": "code",
   "execution_count": 2,
   "id": "6180bb3a",
   "metadata": {},
   "outputs": [
    {
     "name": "stdout",
     "output_type": "stream",
     "text": [
      "PDF redacted successfully.\n"
     ]
    }
   ],
   "source": [
    "import requests\n",
    "\n",
    "url = 'http://localhost:8080/v1/document-services/pdfs/redact-region'\n",
    "headers = {\n",
    "    'accept': '*/*',\n",
    "    'author': 'Hamza | IRONSECUREDOC',\n",
    "    'title': 'REDACT REGION DEMO 2024',\n",
    "    'subject': 'DEMO EXAMPLE'\n",
    "}\n",
    "\n",
    "files = {\n",
    "    'pdf_file': ('sample_file.pdf', open('sample_file.pdf', 'rb'), 'application/pdf')\n",
    "}\n",
    "\n",
    "data = {\n",
    "    'region_to_redact_x': '60',\n",
    "    'region_to_redact_y': '270',\n",
    "    'region_to_redact_w': '470',\n",
    "    'region_to_redact_h': '200',\n",
    "    'specific_pages':[1]\n",
    "}\n",
    "\n",
    "response = requests.post(url, headers=headers, files=files, data=data)\n",
    "\n",
    "# Save the redacted PDF\n",
    "with open('redacted_output.pdf', 'wb') as f:\n",
    "    f.write(response.content)\n",
    "\n",
    "print('PDF redacted successfully.')\n"
   ]
  },
  {
   "cell_type": "code",
   "execution_count": null,
   "id": "a992f98a",
   "metadata": {},
   "outputs": [],
   "source": []
  }
 ],
 "metadata": {
  "kernelspec": {
   "display_name": "Python 3 (ipykernel)",
   "language": "python",
   "name": "python3"
  },
  "language_info": {
   "codemirror_mode": {
    "name": "ipython",
    "version": 3
   },
   "file_extension": ".py",
   "mimetype": "text/x-python",
   "name": "python",
   "nbconvert_exporter": "python",
   "pygments_lexer": "ipython3",
   "version": "3.11.3"
  }
 },
 "nbformat": 4,
 "nbformat_minor": 5
}
